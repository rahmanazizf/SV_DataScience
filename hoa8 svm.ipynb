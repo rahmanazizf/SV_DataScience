{
 "cells": [
  {
   "cell_type": "markdown",
   "id": "3802c662-f374-439c-b921-c22b1efb7842",
   "metadata": {
    "id": "3802c662-f374-439c-b921-c22b1efb7842"
   },
   "source": [
    "Nama:"
   ]
  },
  {
   "cell_type": "code",
   "execution_count": 1,
   "id": "7ec09fbd-ab47-4655-917f-26edd95847ca",
   "metadata": {
    "id": "7ec09fbd-ab47-4655-917f-26edd95847ca"
   },
   "outputs": [
    {
     "name": "stdout",
     "output_type": "stream",
     "text": [
      "Rahman Aziz Firmansyah\n"
     ]
    }
   ],
   "source": [
    "print(\"Rahman Aziz Firmansyah\")"
   ]
  },
  {
   "cell_type": "code",
   "execution_count": 2,
   "id": "c88049e9",
   "metadata": {},
   "outputs": [],
   "source": [
    "import pandas as pd\n",
    "import numpy as np\n",
    "import matplotlib.pyplot as plt\n",
    "import seaborn as sns\n",
    "from sklearn.svm import SVC\n",
    "from sklearn.model_selection import cross_validate\n",
    "from sklearn.tree import DecisionTreeClassifier\n",
    "from sklearn.ensemble import RandomForestClassifier, AdaBoostClassifier\n",
    "from xgboost import XGBClassifier\n"
   ]
  },
  {
   "cell_type": "markdown",
   "id": "a2cc4bc0-a6a7-451e-82d5-c1917c64ca3e",
   "metadata": {
    "id": "a2cc4bc0-a6a7-451e-82d5-c1917c64ca3e"
   },
   "source": [
    "(1) Lanjutkan hasil transformasi train set dan test set dari hands-on 6"
   ]
  },
  {
   "cell_type": "code",
   "execution_count": 3,
   "id": "cc9a2016-618b-466b-862a-b656e661cd3d",
   "metadata": {
    "id": "cc9a2016-618b-466b-862a-b656e661cd3d"
   },
   "outputs": [],
   "source": [
    "X_train_transformed = pd.read_csv('X_train_transformed.csv').drop(['Unnamed: 0', 'Applicant_ID'], axis=1)\n",
    "X_test_transformed = pd.read_csv('X_test_transformed.csv').drop(['Unnamed: 0', 'Applicant_ID'], axis=1)\n",
    "y_train = pd.read_csv('y_train.csv').loc[:, 'Status']\n",
    "y_test = pd.read_csv('y_test.csv').loc[:, 'Status']"
   ]
  },
  {
   "cell_type": "markdown",
   "id": "52a527be-b7c6-4bb2-b6e8-b47af93a0931",
   "metadata": {
    "id": "52a527be-b7c6-4bb2-b6e8-b47af93a0931"
   },
   "source": [
    "(2) Buat 2 model: SVM dengan kernel='poly' default dan optimized. Lakukan cross-validation dengan estimator SVM poly dengan untuk menentukan nilai optimal untuk hyperparameter C, degree dan coef0. Print classification report untuk trainset dan testset (default vs optimized). Apakah optimisasi meningkatkan performansi dari model?"
   ]
  },
  {
   "cell_type": "code",
   "execution_count": 4,
   "id": "8279592e-3027-4925-b0eb-637efc543d49",
   "metadata": {
    "id": "8279592e-3027-4925-b0eb-637efc543d49"
   },
   "outputs": [
    {
     "data": {
      "text/html": [
       "<style>#sk-container-id-1 {color: black;background-color: white;}#sk-container-id-1 pre{padding: 0;}#sk-container-id-1 div.sk-toggleable {background-color: white;}#sk-container-id-1 label.sk-toggleable__label {cursor: pointer;display: block;width: 100%;margin-bottom: 0;padding: 0.3em;box-sizing: border-box;text-align: center;}#sk-container-id-1 label.sk-toggleable__label-arrow:before {content: \"▸\";float: left;margin-right: 0.25em;color: #696969;}#sk-container-id-1 label.sk-toggleable__label-arrow:hover:before {color: black;}#sk-container-id-1 div.sk-estimator:hover label.sk-toggleable__label-arrow:before {color: black;}#sk-container-id-1 div.sk-toggleable__content {max-height: 0;max-width: 0;overflow: hidden;text-align: left;background-color: #f0f8ff;}#sk-container-id-1 div.sk-toggleable__content pre {margin: 0.2em;color: black;border-radius: 0.25em;background-color: #f0f8ff;}#sk-container-id-1 input.sk-toggleable__control:checked~div.sk-toggleable__content {max-height: 200px;max-width: 100%;overflow: auto;}#sk-container-id-1 input.sk-toggleable__control:checked~label.sk-toggleable__label-arrow:before {content: \"▾\";}#sk-container-id-1 div.sk-estimator input.sk-toggleable__control:checked~label.sk-toggleable__label {background-color: #d4ebff;}#sk-container-id-1 div.sk-label input.sk-toggleable__control:checked~label.sk-toggleable__label {background-color: #d4ebff;}#sk-container-id-1 input.sk-hidden--visually {border: 0;clip: rect(1px 1px 1px 1px);clip: rect(1px, 1px, 1px, 1px);height: 1px;margin: -1px;overflow: hidden;padding: 0;position: absolute;width: 1px;}#sk-container-id-1 div.sk-estimator {font-family: monospace;background-color: #f0f8ff;border: 1px dotted black;border-radius: 0.25em;box-sizing: border-box;margin-bottom: 0.5em;}#sk-container-id-1 div.sk-estimator:hover {background-color: #d4ebff;}#sk-container-id-1 div.sk-parallel-item::after {content: \"\";width: 100%;border-bottom: 1px solid gray;flex-grow: 1;}#sk-container-id-1 div.sk-label:hover label.sk-toggleable__label {background-color: #d4ebff;}#sk-container-id-1 div.sk-serial::before {content: \"\";position: absolute;border-left: 1px solid gray;box-sizing: border-box;top: 0;bottom: 0;left: 50%;z-index: 0;}#sk-container-id-1 div.sk-serial {display: flex;flex-direction: column;align-items: center;background-color: white;padding-right: 0.2em;padding-left: 0.2em;position: relative;}#sk-container-id-1 div.sk-item {position: relative;z-index: 1;}#sk-container-id-1 div.sk-parallel {display: flex;align-items: stretch;justify-content: center;background-color: white;position: relative;}#sk-container-id-1 div.sk-item::before, #sk-container-id-1 div.sk-parallel-item::before {content: \"\";position: absolute;border-left: 1px solid gray;box-sizing: border-box;top: 0;bottom: 0;left: 50%;z-index: -1;}#sk-container-id-1 div.sk-parallel-item {display: flex;flex-direction: column;z-index: 1;position: relative;background-color: white;}#sk-container-id-1 div.sk-parallel-item:first-child::after {align-self: flex-end;width: 50%;}#sk-container-id-1 div.sk-parallel-item:last-child::after {align-self: flex-start;width: 50%;}#sk-container-id-1 div.sk-parallel-item:only-child::after {width: 0;}#sk-container-id-1 div.sk-dashed-wrapped {border: 1px dashed gray;margin: 0 0.4em 0.5em 0.4em;box-sizing: border-box;padding-bottom: 0.4em;background-color: white;}#sk-container-id-1 div.sk-label label {font-family: monospace;font-weight: bold;display: inline-block;line-height: 1.2em;}#sk-container-id-1 div.sk-label-container {text-align: center;}#sk-container-id-1 div.sk-container {/* jupyter's `normalize.less` sets `[hidden] { display: none; }` but bootstrap.min.css set `[hidden] { display: none !important; }` so we also need the `!important` here to be able to override the default hidden behavior on the sphinx rendered scikit-learn.org. See: https://github.com/scikit-learn/scikit-learn/issues/21755 */display: inline-block !important;position: relative;}#sk-container-id-1 div.sk-text-repr-fallback {display: none;}</style><div id=\"sk-container-id-1\" class=\"sk-top-container\"><div class=\"sk-text-repr-fallback\"><pre>SVC(kernel=&#x27;poly&#x27;)</pre><b>In a Jupyter environment, please rerun this cell to show the HTML representation or trust the notebook. <br />On GitHub, the HTML representation is unable to render, please try loading this page with nbviewer.org.</b></div><div class=\"sk-container\" hidden><div class=\"sk-item\"><div class=\"sk-estimator sk-toggleable\"><input class=\"sk-toggleable__control sk-hidden--visually\" id=\"sk-estimator-id-1\" type=\"checkbox\" checked><label for=\"sk-estimator-id-1\" class=\"sk-toggleable__label sk-toggleable__label-arrow\">SVC</label><div class=\"sk-toggleable__content\"><pre>SVC(kernel=&#x27;poly&#x27;)</pre></div></div></div></div></div>"
      ],
      "text/plain": [
       "SVC(kernel='poly')"
      ]
     },
     "execution_count": 4,
     "metadata": {},
     "output_type": "execute_result"
    }
   ],
   "source": [
    "#SVM dengan hyperparameter default\n",
    "svm_def = SVC(kernel='poly')\n",
    "svm_def.fit(X_train_transformed, y_train)"
   ]
  },
  {
   "cell_type": "code",
   "execution_count": 5,
   "id": "3203905e",
   "metadata": {},
   "outputs": [],
   "source": [
    "#fungsi untuk menampilkan classification report\n",
    "import classification"
   ]
  },
  {
   "cell_type": "code",
   "execution_count": 6,
   "id": "b1540b7e",
   "metadata": {},
   "outputs": [
    {
     "data": {
      "image/png": "[encoded data removed]",
      "text/plain": [
       "<Figure size 432x288 with 1 Axes>"
      ]
     },
     "metadata": {
      "needs_background": "light"
     },
     "output_type": "display_data"
    },
    {
     "data": {
      "text/plain": [
       "10"
      ]
     },
     "execution_count": 6,
     "metadata": {},
     "output_type": "execute_result"
    }
   ],
   "source": [
    "#optimasi hyperparameter\n",
    "params = [0.05, 0.5, 1, 5, 10]\n",
    "train = []\n",
    "valid = []\n",
    "\n",
    "for par in params:\n",
    "    svm_opt = SVC(random_state=42, kernel='poly', C=par)\n",
    "    result = cross_validate(svm_opt, X_train_transformed, y_train, cv=5, return_train_score=True)\n",
    "    train.append(result['train_score'].mean())\n",
    "    valid.append(result['test_score'].mean())\n",
    "\n",
    "sns.lineplot(x = params, y = train, label = 'train')\n",
    "sns.lineplot( x = params, y = valid, label = 'valid')\n",
    "plt.title('C value')\n",
    "plt.show()\n",
    "C_fin = params[np.argmax(valid)]\n",
    "C_fin"
   ]
  },
  {
   "cell_type": "code",
   "execution_count": 7,
   "id": "932e1284",
   "metadata": {},
   "outputs": [
    {
     "data": {
      "image/png": "[encoded data removed]",
      "text/plain": [
       "<Figure size 432x288 with 1 Axes>"
      ]
     },
     "metadata": {
      "needs_background": "light"
     },
     "output_type": "display_data"
    },
    {
     "data": {
      "text/plain": [
       "2"
      ]
     },
     "execution_count": 7,
     "metadata": {},
     "output_type": "execute_result"
    }
   ],
   "source": [
    "params = [1, 2, 3, 4]\n",
    "train = []\n",
    "valid = []\n",
    "\n",
    "for par in params:\n",
    "    svm_opt = SVC(random_state=42, kernel='poly', C=C_fin, degree=par)\n",
    "    result = cross_validate(svm_opt, X_train_transformed, y_train, cv=5, return_train_score=True)\n",
    "    train.append(result['train_score'].mean())\n",
    "    valid.append(result['test_score'].mean())\n",
    "\n",
    "sns.lineplot(x = params, y = train, label = 'train')\n",
    "sns.lineplot( x = params, y = valid, label = 'valid')\n",
    "plt.title('degree')\n",
    "plt.show()\n",
    "d_fin = params[np.argmax(valid)]\n",
    "d_fin"
   ]
  },
  {
   "cell_type": "code",
   "execution_count": 8,
   "id": "ef61c15c",
   "metadata": {},
   "outputs": [
    {
     "data": {
      "image/png": "[encoded data removed]",
      "text/plain": [
       "<Figure size 432x288 with 1 Axes>"
      ]
     },
     "metadata": {
      "needs_background": "light"
     },
     "output_type": "display_data"
    },
    {
     "data": {
      "text/plain": [
       "1.0"
      ]
     },
     "execution_count": 8,
     "metadata": {},
     "output_type": "execute_result"
    }
   ],
   "source": [
    "params = np.arange(0.1, 1.1, 0.1)\n",
    "train = []\n",
    "valid = []\n",
    "\n",
    "for par in params:\n",
    "    svm_opt = SVC(random_state=42, kernel='poly', C=C_fin, degree=d_fin, coef0=par)\n",
    "    result = cross_validate(svm_opt, X_train_transformed, y_train, cv=5, return_train_score=True)\n",
    "    train.append(result['train_score'].mean())\n",
    "    valid.append(result['test_score'].mean())\n",
    "\n",
    "sns.lineplot(x = params, y = train, label = 'train')\n",
    "sns.lineplot( x = params, y = valid, label = 'valid')\n",
    "plt.title('coef0')\n",
    "plt.show()\n",
    "coef_fin = params[np.argmax(valid)]\n",
    "coef_fin"
   ]
  },
  {
   "cell_type": "code",
   "execution_count": 9,
   "id": "881f8d01",
   "metadata": {},
   "outputs": [
    {
     "data": {
      "text/html": [
       "<style>#sk-container-id-2 {color: black;background-color: white;}#sk-container-id-2 pre{padding: 0;}#sk-container-id-2 div.sk-toggleable {background-color: white;}#sk-container-id-2 label.sk-toggleable__label {cursor: pointer;display: block;width: 100%;margin-bottom: 0;padding: 0.3em;box-sizing: border-box;text-align: center;}#sk-container-id-2 label.sk-toggleable__label-arrow:before {content: \"▸\";float: left;margin-right: 0.25em;color: #696969;}#sk-container-id-2 label.sk-toggleable__label-arrow:hover:before {color: black;}#sk-container-id-2 div.sk-estimator:hover label.sk-toggleable__label-arrow:before {color: black;}#sk-container-id-2 div.sk-toggleable__content {max-height: 0;max-width: 0;overflow: hidden;text-align: left;background-color: #f0f8ff;}#sk-container-id-2 div.sk-toggleable__content pre {margin: 0.2em;color: black;border-radius: 0.25em;background-color: #f0f8ff;}#sk-container-id-2 input.sk-toggleable__control:checked~div.sk-toggleable__content {max-height: 200px;max-width: 100%;overflow: auto;}#sk-container-id-2 input.sk-toggleable__control:checked~label.sk-toggleable__label-arrow:before {content: \"▾\";}#sk-container-id-2 div.sk-estimator input.sk-toggleable__control:checked~label.sk-toggleable__label {background-color: #d4ebff;}#sk-container-id-2 div.sk-label input.sk-toggleable__control:checked~label.sk-toggleable__label {background-color: #d4ebff;}#sk-container-id-2 input.sk-hidden--visually {border: 0;clip: rect(1px 1px 1px 1px);clip: rect(1px, 1px, 1px, 1px);height: 1px;margin: -1px;overflow: hidden;padding: 0;position: absolute;width: 1px;}#sk-container-id-2 div.sk-estimator {font-family: monospace;background-color: #f0f8ff;border: 1px dotted black;border-radius: 0.25em;box-sizing: border-box;margin-bottom: 0.5em;}#sk-container-id-2 div.sk-estimator:hover {background-color: #d4ebff;}#sk-container-id-2 div.sk-parallel-item::after {content: \"\";width: 100%;border-bottom: 1px solid gray;flex-grow: 1;}#sk-container-id-2 div.sk-label:hover label.sk-toggleable__label {background-color: #d4ebff;}#sk-container-id-2 div.sk-serial::before {content: \"\";position: absolute;border-left: 1px solid gray;box-sizing: border-box;top: 0;bottom: 0;left: 50%;z-index: 0;}#sk-container-id-2 div.sk-serial {display: flex;flex-direction: column;align-items: center;background-color: white;padding-right: 0.2em;padding-left: 0.2em;position: relative;}#sk-container-id-2 div.sk-item {position: relative;z-index: 1;}#sk-container-id-2 div.sk-parallel {display: flex;align-items: stretch;justify-content: center;background-color: white;position: relative;}#sk-container-id-2 div.sk-item::before, #sk-container-id-2 div.sk-parallel-item::before {content: \"\";position: absolute;border-left: 1px solid gray;box-sizing: border-box;top: 0;bottom: 0;left: 50%;z-index: -1;}#sk-container-id-2 div.sk-parallel-item {display: flex;flex-direction: column;z-index: 1;position: relative;background-color: white;}#sk-container-id-2 div.sk-parallel-item:first-child::after {align-self: flex-end;width: 50%;}#sk-container-id-2 div.sk-parallel-item:last-child::after {align-self: flex-start;width: 50%;}#sk-container-id-2 div.sk-parallel-item:only-child::after {width: 0;}#sk-container-id-2 div.sk-dashed-wrapped {border: 1px dashed gray;margin: 0 0.4em 0.5em 0.4em;box-sizing: border-box;padding-bottom: 0.4em;background-color: white;}#sk-container-id-2 div.sk-label label {font-family: monospace;font-weight: bold;display: inline-block;line-height: 1.2em;}#sk-container-id-2 div.sk-label-container {text-align: center;}#sk-container-id-2 div.sk-container {/* jupyter's `normalize.less` sets `[hidden] { display: none; }` but bootstrap.min.css set `[hidden] { display: none !important; }` so we also need the `!important` here to be able to override the default hidden behavior on the sphinx rendered scikit-learn.org. See: https://github.com/scikit-learn/scikit-learn/issues/21755 */display: inline-block !important;position: relative;}#sk-container-id-2 div.sk-text-repr-fallback {display: none;}</style><div id=\"sk-container-id-2\" class=\"sk-top-container\"><div class=\"sk-text-repr-fallback\"><pre>SVC(C=10, coef0=1.0, degree=2, kernel=&#x27;poly&#x27;)</pre><b>In a Jupyter environment, please rerun this cell to show the HTML representation or trust the notebook. <br />On GitHub, the HTML representation is unable to render, please try loading this page with nbviewer.org.</b></div><div class=\"sk-container\" hidden><div class=\"sk-item\"><div class=\"sk-estimator sk-toggleable\"><input class=\"sk-toggleable__control sk-hidden--visually\" id=\"sk-estimator-id-2\" type=\"checkbox\" checked><label for=\"sk-estimator-id-2\" class=\"sk-toggleable__label sk-toggleable__label-arrow\">SVC</label><div class=\"sk-toggleable__content\"><pre>SVC(C=10, coef0=1.0, degree=2, kernel=&#x27;poly&#x27;)</pre></div></div></div></div></div>"
      ],
      "text/plain": [
       "SVC(C=10, coef0=1.0, degree=2, kernel='poly')"
      ]
     },
     "execution_count": 9,
     "metadata": {},
     "output_type": "execute_result"
    }
   ],
   "source": [
    "#model svm yang telah dioptimasi\n",
    "svm_final = SVC(kernel='poly', C=C_fin, degree=d_fin, coef0=coef_fin)\n",
    "svm_final.fit(X_train_transformed, y_train)"
   ]
  },
  {
   "cell_type": "code",
   "execution_count": 10,
   "id": "be14a5af",
   "metadata": {},
   "outputs": [
    {
     "name": "stdout",
     "output_type": "stream",
     "text": [
      "              precision    recall  f1-score   support\n",
      "\n",
      "           1       1.00      1.00      1.00     20005\n",
      "           0       1.00      0.11      0.20        97\n",
      "\n",
      "    accuracy                           1.00     20102\n",
      "   macro avg       1.00      0.56      0.60     20102\n",
      "weighted avg       1.00      1.00      0.99     20102\n",
      "\n",
      "              precision    recall  f1-score   support\n",
      "\n",
      "           1       1.00      1.00      1.00      5002\n",
      "           0       1.00      0.08      0.15        24\n",
      "\n",
      "    accuracy                           1.00      5026\n",
      "   macro avg       1.00      0.54      0.58      5026\n",
      "weighted avg       1.00      1.00      0.99      5026\n",
      "\n"
     ]
    }
   ],
   "source": [
    "#classification report untuk model tanpa optimasi\n",
    "classification.classif(X_train_transformed, y_train, svm_def)\n",
    "classification.classif(X_test_transformed, y_test, svm_def)"
   ]
  },
  {
   "cell_type": "code",
   "execution_count": 11,
   "id": "4e0086cf",
   "metadata": {},
   "outputs": [
    {
     "name": "stdout",
     "output_type": "stream",
     "text": [
      "              precision    recall  f1-score   support\n",
      "\n",
      "           1       1.00      1.00      1.00     20005\n",
      "           0       0.99      0.73      0.84        97\n",
      "\n",
      "    accuracy                           1.00     20102\n",
      "   macro avg       0.99      0.87      0.92     20102\n",
      "weighted avg       1.00      1.00      1.00     20102\n",
      "\n",
      "              precision    recall  f1-score   support\n",
      "\n",
      "           1       1.00      1.00      1.00      5002\n",
      "           0       1.00      0.58      0.74        24\n",
      "\n",
      "    accuracy                           1.00      5026\n",
      "   macro avg       1.00      0.79      0.87      5026\n",
      "weighted avg       1.00      1.00      1.00      5026\n",
      "\n"
     ]
    }
   ],
   "source": [
    "#classification report untuk model svm poly dengan optimasi\n",
    "classification.classif(X_train_transformed, y_train, svm_final)\n",
    "classification.classif(X_test_transformed, y_test, svm_final)"
   ]
  },
  {
   "cell_type": "markdown",
   "id": "7a0e2746",
   "metadata": {},
   "source": [
    "Berdasarkan nilai precision dan recall dari kedua model, optimasi berhasil meningkatkan performa model meskipun terjadi overfit"
   ]
  },
  {
   "cell_type": "markdown",
   "id": "8a113c21-afad-4e5a-9b4e-23c0fd9a0d52",
   "metadata": {
    "id": "8a113c21-afad-4e5a-9b4e-23c0fd9a0d52"
   },
   "source": [
    "(3) Buat 2 model: SVM dengan kernel='rbf' default dan optimized. Lakukan cross-validation dengan estimator SVM rbf dengan untuk menentukan nilai optimal untuk hyperparameter gamma dan C. Print classification report untuk trainset dan testset (default vs optimized). Apakah optimisasi meningkatkan performansi dari model?"
   ]
  },
  {
   "cell_type": "code",
   "execution_count": 12,
   "id": "f3b643f7-f0fc-4d07-a2da-e6be880aad64",
   "metadata": {
    "id": "f3b643f7-f0fc-4d07-a2da-e6be880aad64"
   },
   "outputs": [
    {
     "data": {
      "text/html": [
       "<style>#sk-container-id-3 {color: black;background-color: white;}#sk-container-id-3 pre{padding: 0;}#sk-container-id-3 div.sk-toggleable {background-color: white;}#sk-container-id-3 label.sk-toggleable__label {cursor: pointer;display: block;width: 100%;margin-bottom: 0;padding: 0.3em;box-sizing: border-box;text-align: center;}#sk-container-id-3 label.sk-toggleable__label-arrow:before {content: \"▸\";float: left;margin-right: 0.25em;color: #696969;}#sk-container-id-3 label.sk-toggleable__label-arrow:hover:before {color: black;}#sk-container-id-3 div.sk-estimator:hover label.sk-toggleable__label-arrow:before {color: black;}#sk-container-id-3 div.sk-toggleable__content {max-height: 0;max-width: 0;overflow: hidden;text-align: left;background-color: #f0f8ff;}#sk-container-id-3 div.sk-toggleable__content pre {margin: 0.2em;color: black;border-radius: 0.25em;background-color: #f0f8ff;}#sk-container-id-3 input.sk-toggleable__control:checked~div.sk-toggleable__content {max-height: 200px;max-width: 100%;overflow: auto;}#sk-container-id-3 input.sk-toggleable__control:checked~label.sk-toggleable__label-arrow:before {content: \"▾\";}#sk-container-id-3 div.sk-estimator input.sk-toggleable__control:checked~label.sk-toggleable__label {background-color: #d4ebff;}#sk-container-id-3 div.sk-label input.sk-toggleable__control:checked~label.sk-toggleable__label {background-color: #d4ebff;}#sk-container-id-3 input.sk-hidden--visually {border: 0;clip: rect(1px 1px 1px 1px);clip: rect(1px, 1px, 1px, 1px);height: 1px;margin: -1px;overflow: hidden;padding: 0;position: absolute;width: 1px;}#sk-container-id-3 div.sk-estimator {font-family: monospace;background-color: #f0f8ff;border: 1px dotted black;border-radius: 0.25em;box-sizing: border-box;margin-bottom: 0.5em;}#sk-container-id-3 div.sk-estimator:hover {background-color: #d4ebff;}#sk-container-id-3 div.sk-parallel-item::after {content: \"\";width: 100%;border-bottom: 1px solid gray;flex-grow: 1;}#sk-container-id-3 div.sk-label:hover label.sk-toggleable__label {background-color: #d4ebff;}#sk-container-id-3 div.sk-serial::before {content: \"\";position: absolute;border-left: 1px solid gray;box-sizing: border-box;top: 0;bottom: 0;left: 50%;z-index: 0;}#sk-container-id-3 div.sk-serial {display: flex;flex-direction: column;align-items: center;background-color: white;padding-right: 0.2em;padding-left: 0.2em;position: relative;}#sk-container-id-3 div.sk-item {position: relative;z-index: 1;}#sk-container-id-3 div.sk-parallel {display: flex;align-items: stretch;justify-content: center;background-color: white;position: relative;}#sk-container-id-3 div.sk-item::before, #sk-container-id-3 div.sk-parallel-item::before {content: \"\";position: absolute;border-left: 1px solid gray;box-sizing: border-box;top: 0;bottom: 0;left: 50%;z-index: -1;}#sk-container-id-3 div.sk-parallel-item {display: flex;flex-direction: column;z-index: 1;position: relative;background-color: white;}#sk-container-id-3 div.sk-parallel-item:first-child::after {align-self: flex-end;width: 50%;}#sk-container-id-3 div.sk-parallel-item:last-child::after {align-self: flex-start;width: 50%;}#sk-container-id-3 div.sk-parallel-item:only-child::after {width: 0;}#sk-container-id-3 div.sk-dashed-wrapped {border: 1px dashed gray;margin: 0 0.4em 0.5em 0.4em;box-sizing: border-box;padding-bottom: 0.4em;background-color: white;}#sk-container-id-3 div.sk-label label {font-family: monospace;font-weight: bold;display: inline-block;line-height: 1.2em;}#sk-container-id-3 div.sk-label-container {text-align: center;}#sk-container-id-3 div.sk-container {/* jupyter's `normalize.less` sets `[hidden] { display: none; }` but bootstrap.min.css set `[hidden] { display: none !important; }` so we also need the `!important` here to be able to override the default hidden behavior on the sphinx rendered scikit-learn.org. See: https://github.com/scikit-learn/scikit-learn/issues/21755 */display: inline-block !important;position: relative;}#sk-container-id-3 div.sk-text-repr-fallback {display: none;}</style><div id=\"sk-container-id-3\" class=\"sk-top-container\"><div class=\"sk-text-repr-fallback\"><pre>SVC()</pre><b>In a Jupyter environment, please rerun this cell to show the HTML representation or trust the notebook. <br />On GitHub, the HTML representation is unable to render, please try loading this page with nbviewer.org.</b></div><div class=\"sk-container\" hidden><div class=\"sk-item\"><div class=\"sk-estimator sk-toggleable\"><input class=\"sk-toggleable__control sk-hidden--visually\" id=\"sk-estimator-id-3\" type=\"checkbox\" checked><label for=\"sk-estimator-id-3\" class=\"sk-toggleable__label sk-toggleable__label-arrow\">SVC</label><div class=\"sk-toggleable__content\"><pre>SVC()</pre></div></div></div></div></div>"
      ],
      "text/plain": [
       "SVC()"
      ]
     },
     "execution_count": 12,
     "metadata": {},
     "output_type": "execute_result"
    }
   ],
   "source": [
    "svm_rbf_def = SVC(kernel='rbf')\n",
    "svm_rbf_def.fit(X_train_transformed, y_train)"
   ]
  },
  {
   "cell_type": "code",
   "execution_count": 13,
   "id": "1c1308cf",
   "metadata": {},
   "outputs": [
    {
     "data": {
      "image/png": "[encoded data removed]",
      "text/plain": [
       "<Figure size 432x288 with 1 Axes>"
      ]
     },
     "metadata": {
      "needs_background": "light"
     },
     "output_type": "display_data"
    },
    {
     "data": {
      "text/plain": [
       "10"
      ]
     },
     "execution_count": 13,
     "metadata": {},
     "output_type": "execute_result"
    }
   ],
   "source": [
    "#optimasi parameter SVM kernel rbf\n",
    "params = [0.05, 0.5, 1, 5, 10]\n",
    "train = []\n",
    "valid = []\n",
    "\n",
    "for par in params:\n",
    "    svm1 = SVC(random_state=42, kernel='rbf', C=par)\n",
    "    result = cross_validate(svm1, X_train_transformed, y_train, cv=5, return_train_score=True)\n",
    "    train.append(result['train_score'].mean())\n",
    "    valid.append(result['test_score'].mean())\n",
    "\n",
    "sns.lineplot(x = params, y = train, label = 'train')\n",
    "sns.lineplot( x = params, y = valid, label = 'valid')\n",
    "plt.title('C Value')\n",
    "plt.show()\n",
    "c_rbf_fin = params[np.argmax(valid)]\n",
    "c_rbf_fin"
   ]
  },
  {
   "cell_type": "code",
   "execution_count": 14,
   "id": "055170e2",
   "metadata": {},
   "outputs": [
    {
     "data": {
      "image/png": "[encoded data removed]",
      "text/plain": [
       "<Figure size 432x288 with 1 Axes>"
      ]
     },
     "metadata": {
      "needs_background": "light"
     },
     "output_type": "display_data"
    },
    {
     "data": {
      "text/plain": [
       "0.05"
      ]
     },
     "execution_count": 14,
     "metadata": {},
     "output_type": "execute_result"
    }
   ],
   "source": [
    "params = [0.05, 0.5, 1, 5, 10]\n",
    "train = []\n",
    "valid = []\n",
    "\n",
    "for par in params:\n",
    "    svm1 = SVC(random_state=42, kernel='rbf', C=c_rbf_fin, gamma = par)\n",
    "    result = cross_validate(svm1, X_train_transformed, y_train, cv=5, return_train_score=True)\n",
    "    train.append(result['train_score'].mean())\n",
    "    valid.append(result['test_score'].mean())\n",
    "\n",
    "sns.lineplot(x = params, y = train, label = 'train')\n",
    "sns.lineplot( x = params, y = valid, label = 'valid')\n",
    "plt.title('gamma')\n",
    "plt.show()\n",
    "gamma_rbf_fin = params[np.argmax(valid)]\n",
    "gamma_rbf_fin"
   ]
  },
  {
   "cell_type": "code",
   "execution_count": 15,
   "id": "b42481c5",
   "metadata": {},
   "outputs": [
    {
     "data": {
      "text/html": [
       "<style>#sk-container-id-4 {color: black;background-color: white;}#sk-container-id-4 pre{padding: 0;}#sk-container-id-4 div.sk-toggleable {background-color: white;}#sk-container-id-4 label.sk-toggleable__label {cursor: pointer;display: block;width: 100%;margin-bottom: 0;padding: 0.3em;box-sizing: border-box;text-align: center;}#sk-container-id-4 label.sk-toggleable__label-arrow:before {content: \"▸\";float: left;margin-right: 0.25em;color: #696969;}#sk-container-id-4 label.sk-toggleable__label-arrow:hover:before {color: black;}#sk-container-id-4 div.sk-estimator:hover label.sk-toggleable__label-arrow:before {color: black;}#sk-container-id-4 div.sk-toggleable__content {max-height: 0;max-width: 0;overflow: hidden;text-align: left;background-color: #f0f8ff;}#sk-container-id-4 div.sk-toggleable__content pre {margin: 0.2em;color: black;border-radius: 0.25em;background-color: #f0f8ff;}#sk-container-id-4 input.sk-toggleable__control:checked~div.sk-toggleable__content {max-height: 200px;max-width: 100%;overflow: auto;}#sk-container-id-4 input.sk-toggleable__control:checked~label.sk-toggleable__label-arrow:before {content: \"▾\";}#sk-container-id-4 div.sk-estimator input.sk-toggleable__control:checked~label.sk-toggleable__label {background-color: #d4ebff;}#sk-container-id-4 div.sk-label input.sk-toggleable__control:checked~label.sk-toggleable__label {background-color: #d4ebff;}#sk-container-id-4 input.sk-hidden--visually {border: 0;clip: rect(1px 1px 1px 1px);clip: rect(1px, 1px, 1px, 1px);height: 1px;margin: -1px;overflow: hidden;padding: 0;position: absolute;width: 1px;}#sk-container-id-4 div.sk-estimator {font-family: monospace;background-color: #f0f8ff;border: 1px dotted black;border-radius: 0.25em;box-sizing: border-box;margin-bottom: 0.5em;}#sk-container-id-4 div.sk-estimator:hover {background-color: #d4ebff;}#sk-container-id-4 div.sk-parallel-item::after {content: \"\";width: 100%;border-bottom: 1px solid gray;flex-grow: 1;}#sk-container-id-4 div.sk-label:hover label.sk-toggleable__label {background-color: #d4ebff;}#sk-container-id-4 div.sk-serial::before {content: \"\";position: absolute;border-left: 1px solid gray;box-sizing: border-box;top: 0;bottom: 0;left: 50%;z-index: 0;}#sk-container-id-4 div.sk-serial {display: flex;flex-direction: column;align-items: center;background-color: white;padding-right: 0.2em;padding-left: 0.2em;position: relative;}#sk-container-id-4 div.sk-item {position: relative;z-index: 1;}#sk-container-id-4 div.sk-parallel {display: flex;align-items: stretch;justify-content: center;background-color: white;position: relative;}#sk-container-id-4 div.sk-item::before, #sk-container-id-4 div.sk-parallel-item::before {content: \"\";position: absolute;border-left: 1px solid gray;box-sizing: border-box;top: 0;bottom: 0;left: 50%;z-index: -1;}#sk-container-id-4 div.sk-parallel-item {display: flex;flex-direction: column;z-index: 1;position: relative;background-color: white;}#sk-container-id-4 div.sk-parallel-item:first-child::after {align-self: flex-end;width: 50%;}#sk-container-id-4 div.sk-parallel-item:last-child::after {align-self: flex-start;width: 50%;}#sk-container-id-4 div.sk-parallel-item:only-child::after {width: 0;}#sk-container-id-4 div.sk-dashed-wrapped {border: 1px dashed gray;margin: 0 0.4em 0.5em 0.4em;box-sizing: border-box;padding-bottom: 0.4em;background-color: white;}#sk-container-id-4 div.sk-label label {font-family: monospace;font-weight: bold;display: inline-block;line-height: 1.2em;}#sk-container-id-4 div.sk-label-container {text-align: center;}#sk-container-id-4 div.sk-container {/* jupyter's `normalize.less` sets `[hidden] { display: none; }` but bootstrap.min.css set `[hidden] { display: none !important; }` so we also need the `!important` here to be able to override the default hidden behavior on the sphinx rendered scikit-learn.org. See: https://github.com/scikit-learn/scikit-learn/issues/21755 */display: inline-block !important;position: relative;}#sk-container-id-4 div.sk-text-repr-fallback {display: none;}</style><div id=\"sk-container-id-4\" class=\"sk-top-container\"><div class=\"sk-text-repr-fallback\"><pre>SVC(C=10, gamma=0.05, random_state=42)</pre><b>In a Jupyter environment, please rerun this cell to show the HTML representation or trust the notebook. <br />On GitHub, the HTML representation is unable to render, please try loading this page with nbviewer.org.</b></div><div class=\"sk-container\" hidden><div class=\"sk-item\"><div class=\"sk-estimator sk-toggleable\"><input class=\"sk-toggleable__control sk-hidden--visually\" id=\"sk-estimator-id-4\" type=\"checkbox\" checked><label for=\"sk-estimator-id-4\" class=\"sk-toggleable__label sk-toggleable__label-arrow\">SVC</label><div class=\"sk-toggleable__content\"><pre>SVC(C=10, gamma=0.05, random_state=42)</pre></div></div></div></div></div>"
      ],
      "text/plain": [
       "SVC(C=10, gamma=0.05, random_state=42)"
      ]
     },
     "execution_count": 15,
     "metadata": {},
     "output_type": "execute_result"
    }
   ],
   "source": [
    "svm_rbf_fin = SVC(random_state=42, kernel='rbf', C=c_rbf_fin, gamma = gamma_rbf_fin)\n",
    "svm_rbf_fin.fit(X_train_transformed, y_train)"
   ]
  },
  {
   "cell_type": "code",
   "execution_count": 16,
   "id": "cc1955d3",
   "metadata": {},
   "outputs": [
    {
     "name": "stdout",
     "output_type": "stream",
     "text": [
      "              precision    recall  f1-score   support\n",
      "\n",
      "           1       1.00      1.00      1.00     20005\n",
      "           0       1.00      0.05      0.10        97\n",
      "\n",
      "    accuracy                           1.00     20102\n",
      "   macro avg       1.00      0.53      0.55     20102\n",
      "weighted avg       1.00      1.00      0.99     20102\n",
      "\n",
      "              precision    recall  f1-score   support\n",
      "\n",
      "           1       1.00      1.00      1.00      5002\n",
      "           0       1.00      0.04      0.08        24\n",
      "\n",
      "    accuracy                           1.00      5026\n",
      "   macro avg       1.00      0.52      0.54      5026\n",
      "weighted avg       1.00      1.00      0.99      5026\n",
      "\n"
     ]
    }
   ],
   "source": [
    "#classification report untuk model tanpa optimasi\n",
    "classification.classif(X_train_transformed, y_train, svm_rbf_def)\n",
    "classification.classif(X_test_transformed, y_test, svm_rbf_def)"
   ]
  },
  {
   "cell_type": "code",
   "execution_count": 17,
   "id": "d181cf73",
   "metadata": {},
   "outputs": [
    {
     "name": "stdout",
     "output_type": "stream",
     "text": [
      "              precision    recall  f1-score   support\n",
      "\n",
      "           1       1.00      1.00      1.00     20005\n",
      "           0       1.00      0.31      0.47        97\n",
      "\n",
      "    accuracy                           1.00     20102\n",
      "   macro avg       1.00      0.65      0.74     20102\n",
      "weighted avg       1.00      1.00      1.00     20102\n",
      "\n",
      "              precision    recall  f1-score   support\n",
      "\n",
      "           1       1.00      1.00      1.00      5002\n",
      "           0       0.86      0.25      0.39        24\n",
      "\n",
      "    accuracy                           1.00      5026\n",
      "   macro avg       0.93      0.62      0.69      5026\n",
      "weighted avg       1.00      1.00      1.00      5026\n",
      "\n"
     ]
    }
   ],
   "source": [
    "#classification report untuk model dengan optimasi\n",
    "classification.classif(X_train_transformed, y_train, svm_rbf_fin)\n",
    "classification.classif(X_test_transformed, y_test, svm_rbf_fin)"
   ]
  },
  {
   "cell_type": "markdown",
   "id": "50437ba8",
   "metadata": {},
   "source": [
    "Optimasi hyperparameter pada model SVM rbf berhasil meningkatkan performa namun terjadi overfit"
   ]
  },
  {
   "cell_type": "markdown",
   "id": "3e269f58-2cae-44a8-a858-1e40f81b82d1",
   "metadata": {
    "id": "3e269f58-2cae-44a8-a858-1e40f81b82d1"
   },
   "source": [
    "(4) Dari hasil performansi yang Anda dapatkan dengan menggunakan kedua kernel, manakah estimator yang lebih baik untuk memprediksi dataset ini? Apa alasannya?"
   ]
  },
  {
   "cell_type": "markdown",
   "id": "e9d97220-5979-46e8-a41f-6d444f039061",
   "metadata": {
    "id": "e9d97220-5979-46e8-a41f-6d444f039061"
   },
   "source": [
    "Berdasarkan nilai precision dan recall setiap model, model SVM yang paling baik untuk memprediksi dataset ini adalah SVM dengan kernel polynomial dengan optimasi"
   ]
  },
  {
   "cell_type": "markdown",
   "id": "u9U_TJTzvhtD",
   "metadata": {
    "id": "u9U_TJTzvhtD"
   },
   "source": [
    "(5) Buatlah satu dataframe yang menunjukkan performance terhadap testing set dari 5 estimator yang telah dibuat: <p>\n",
    "(a) index = 5 estimator terbaik: dt terbaik, rf terbaik, ada terbaik, xg terbaik, svm terbaik yang telah anda buat <p>\n",
    "(b) kolom = precision, recall, tnr, npv, f1-score, accuracy <p>\n",
    "Dari 5 estimator ini manakah estimator terbaik untuk dataset credit card? Apa alasannya?"
   ]
  },
  {
   "cell_type": "code",
   "execution_count": 18,
   "id": "920ea93c-84d3-4f5b-b7ef-20ae70de11c7",
   "metadata": {
    "id": "920ea93c-84d3-4f5b-b7ef-20ae70de11c7"
   },
   "outputs": [],
   "source": [
    "#menyiapkan model dt, rf, ada, xgboost\n",
    "dt = DecisionTreeClassifier(max_depth=4)\n",
    "rf = RandomForestClassifier(max_depth=33, max_leaf_nodes=30, min_samples_leaf=2, \n",
    "min_samples_split=16, n_estimators=7)\n",
    "ada = AdaBoostClassifier(n_estimators=30)\n",
    "xg = XGBClassifier()\n",
    "for model in [dt, rf, ada, xg]:\n",
    "    model.fit(X_train_transformed, y_train)"
   ]
  },
  {
   "cell_type": "code",
   "execution_count": 19,
   "id": "67ca0f32",
   "metadata": {},
   "outputs": [
    {
     "name": "stdout",
     "output_type": "stream",
     "text": [
      "              recall  precision       TNR       NPV  accuracy        f1\n",
      "ada_test     0.99980   0.999600  0.916667  0.956522  0.999700  0.999403\n",
      "ada_train    1.00000   1.000000  1.000000       1.0  1.000000  1.000000\n",
      "dtree_test   0.99900   0.999200  0.833333       0.8  0.999100  0.998209\n",
      "dtree_train  0.99970   0.999251  0.845361  0.931818  0.999475  0.998955\n",
      "rf_test      1.00000   0.995225  0.000000      none  0.997607  0.995225\n",
      "rf_train     1.00000   0.995373  0.041237       1.0  0.997681  0.995374\n",
      "svm_test     1.00000   0.998005  0.583333       1.0  0.999001  0.998010\n",
      "svm_train    0.99995   0.998702  0.731959  0.986111  0.999326  0.998657\n",
      "xg_test      0.99980   0.999400  0.875000  0.954545  0.999600  0.999204\n",
      "xg_train     1.00000   1.000000  1.000000       1.0  1.000000  1.000000\n"
     ]
    }
   ],
   "source": [
    "#list model dan label\n",
    "models = [svm_final, dt, rf, ada, xg]\n",
    "labels = ['svm', 'dtree', 'rf', 'ada', 'xg']\n",
    "#classification report\n",
    "classification.perf_df(X_train_transformed, y_train, X_test_transformed, y_test, model_list=models, label_list=labels)"
   ]
  },
  {
   "cell_type": "markdown",
   "id": "eac1c68f",
   "metadata": {},
   "source": [
    "berdasarkan nilai precision, recall, TNR dan NPV setiap model, AdaBoostClassifier merupakan model terbaik untuk memprediksi data credit card application"
   ]
  }
 ],
 "metadata": {
  "colab": {
   "name": "hoa8 svm.ipynb",
   "provenance": []
  },
  "kernelspec": {
   "display_name": "Python 3 (ipykernel)",
   "language": "python",
   "name": "python3"
  },
  "language_info": {
   "codemirror_mode": {
    "name": "ipython",
    "version": 3
   },
   "file_extension": ".py",
   "mimetype": "text/x-python",
   "name": "python",
   "nbconvert_exporter": "python",
   "pygments_lexer": "ipython3",
   "version": "3.10.5"
  },
  "vscode": {
   "interpreter": {
    "hash": "b56bdd541f4dd53dc090db587cebbea2780bf99bf2bbd1c72f453673f286369f"
   }
  }
 },
 "nbformat": 4,
 "nbformat_minor": 5
}
