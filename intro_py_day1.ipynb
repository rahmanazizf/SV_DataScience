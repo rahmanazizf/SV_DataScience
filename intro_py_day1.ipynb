{
 "cells": [
  {
   "cell_type": "code",
   "execution_count": 4,
   "metadata": {},
   "outputs": [
    {
     "name": "stdout",
     "output_type": "stream",
     "text": [
      "Aziz\n"
     ]
    }
   ],
   "source": [
    "print(\"Aziz\")"
   ]
  },
  {
   "cell_type": "code",
   "execution_count": 5,
   "metadata": {},
   "outputs": [
    {
     "name": "stdout",
     "output_type": "stream",
     "text": [
      "02 Juli 2022\n"
     ]
    }
   ],
   "source": [
    "print(\"02 Juli 2022\")"
   ]
  },
  {
   "cell_type": "code",
   "execution_count": 6,
   "metadata": {},
   "outputs": [
    {
     "name": "stdout",
     "output_type": "stream",
     "text": [
      "10.0\n"
     ]
    }
   ],
   "source": [
    "print(100/10)"
   ]
  },
  {
   "cell_type": "code",
   "execution_count": 7,
   "metadata": {},
   "outputs": [
    {
     "name": "stdout",
     "output_type": "stream",
     "text": [
      "10\n"
     ]
    }
   ],
   "source": [
    "print(2*5)"
   ]
  },
  {
   "cell_type": "code",
   "execution_count": 8,
   "metadata": {},
   "outputs": [
    {
     "name": "stdout",
     "output_type": "stream",
     "text": [
      "<class 'float'>\n"
     ]
    }
   ],
   "source": [
    "print(type(100/10))"
   ]
  },
  {
   "cell_type": "code",
   "execution_count": 9,
   "metadata": {},
   "outputs": [
    {
     "name": "stdout",
     "output_type": "stream",
     "text": [
      "4\n"
     ]
    }
   ],
   "source": [
    "print(len(\"Aziz\"))"
   ]
  },
  {
   "cell_type": "code",
   "execution_count": 12,
   "metadata": {},
   "outputs": [
    {
     "name": "stdout",
     "output_type": "stream",
     "text": [
      "<class 'int'>\n"
     ]
    }
   ],
   "source": [
    "a = 5\n",
    "print(type(a))"
   ]
  },
  {
   "cell_type": "code",
   "execution_count": 13,
   "metadata": {},
   "outputs": [
    {
     "name": "stdout",
     "output_type": "stream",
     "text": [
      "<class 'float'>\n"
     ]
    }
   ],
   "source": [
    "x = 5.0\n",
    "print(type(x))"
   ]
  },
  {
   "cell_type": "code",
   "execution_count": 15,
   "metadata": {},
   "outputs": [
    {
     "name": "stdout",
     "output_type": "stream",
     "text": [
      "<class 'str'>\n"
     ]
    }
   ],
   "source": [
    "name = \"Aziz\"\n",
    "print(type(name))"
   ]
  },
  {
   "cell_type": "code",
   "execution_count": 16,
   "metadata": {},
   "outputs": [
    {
     "name": "stdout",
     "output_type": "stream",
     "text": [
      "<class 'bool'>\n"
     ]
    }
   ],
   "source": [
    "flt = True\n",
    "print(type(flt))"
   ]
  },
  {
   "cell_type": "code",
   "execution_count": 22,
   "metadata": {},
   "outputs": [
    {
     "name": "stdout",
     "output_type": "stream",
     "text": [
      "True\n",
      "[True, 'Apple']\n"
     ]
    }
   ],
   "source": [
    "created_list = [1, True, \"Apple\", 4.0]\n",
    "print(created_list[1])\n",
    "print(created_list[1:3])"
   ]
  },
  {
   "cell_type": "code",
   "execution_count": 23,
   "metadata": {},
   "outputs": [
    {
     "name": "stdout",
     "output_type": "stream",
     "text": [
      "[2, True, 4.0, 7, 'Pineapple']\n"
     ]
    }
   ],
   "source": [
    "created_list[0] = 2\n",
    "created_list = created_list + [7, \"Pineapple\"]\n",
    "del(created_list[2])\n",
    "print(created_list)"
   ]
  },
  {
   "cell_type": "code",
   "execution_count": 32,
   "metadata": {},
   "outputs": [
    {
     "name": "stdout",
     "output_type": "stream",
     "text": [
      "RAHMAN AZIZ\n",
      "3\n"
     ]
    }
   ],
   "source": [
    "my_name = \"Rahman Aziz\"\n",
    "my_name_upper = my_name.upper()\n",
    "print(my_name_upper)\n",
    "print(my_name_upper.count('A'))"
   ]
  },
  {
   "cell_type": "code",
   "execution_count": 33,
   "metadata": {},
   "outputs": [
    {
     "name": "stdout",
     "output_type": "stream",
     "text": [
      "3\n",
      "2\n"
     ]
    }
   ],
   "source": [
    "num_list = [5,5,6,7,8]\n",
    "print(num_list.index(7))\n",
    "print(num_list.count(5))"
   ]
  },
  {
   "cell_type": "code",
   "execution_count": 36,
   "metadata": {},
   "outputs": [
    {
     "name": "stdout",
     "output_type": "stream",
     "text": [
      "the volume is 268.082573106329\n"
     ]
    }
   ],
   "source": [
    "import math\n",
    "\n",
    "r = 4\n",
    "V = (4/3)*math.pi*(r**3)\n",
    "print(\"the volume is {volume}\".format(volume = V))"
   ]
  },
  {
   "cell_type": "code",
   "execution_count": 43,
   "metadata": {},
   "outputs": [
    {
     "name": "stdout",
     "output_type": "stream",
     "text": [
      "[0 1 2 3]\n",
      "[3 2]\n",
      "2\n",
      "2.375\n",
      "2.0\n",
      "19\n"
     ]
    }
   ],
   "source": [
    "import numpy as np\n",
    "\n",
    "a = [0,1,2,3]\n",
    "b = [2,0,9,2]\n",
    "c = np.array([a,b])\n",
    "#subset row 1\n",
    "print(c[0])\n",
    "#subset kolom 3\n",
    "print(c[:,3])\n",
    "#subset row 1 kolom 3\n",
    "print(c[0,2])\n",
    "#mean dan median\n",
    "print(np.mean(c))\n",
    "print(np.median(c))\n",
    "print(np.sum(c))"
   ]
  },
  {
   "cell_type": "code",
   "execution_count": 112,
   "metadata": {},
   "outputs": [
    {
     "name": "stdout",
     "output_type": "stream",
     "text": [
      "[2 4 6 8]\n",
      "[1, 2, 3, 4, 1, 2, 3, 4]\n"
     ]
    }
   ],
   "source": [
    "lis = [1,2,3,4]\n",
    "list_arr = np.array(lis)\n",
    "print(list_arr*2)\n",
    "print(lis*2)\n"
   ]
  },
  {
   "cell_type": "code",
   "execution_count": 71,
   "metadata": {},
   "outputs": [
    {
     "name": "stdout",
     "output_type": "stream",
     "text": [
      "[22.66399921 15.25348856 22.0396032  28.33635487 23.04468746 17.02042496\n",
      " 27.27174103 18.33290005 28.96032316 27.18728176]\n",
      "[2 3 4 5 1 9 0 3 6 4]\n"
     ]
    }
   ],
   "source": [
    "import numpy as np\n",
    "import random\n",
    "#generate array 5-30\n",
    "arr_1 = np.random.rand(10)*15+15\n",
    "print(arr_1)\n",
    "#generate array integer 0-10\n",
    "arr_int = np.random.randint(0,10,10)\n",
    "print(arr_int)\n",
    "#jarak angka 2\n",
    "arr_2 = np.arange(0,10,2)\n",
    "#"
   ]
  },
  {
   "cell_type": "code",
   "execution_count": 84,
   "metadata": {},
   "outputs": [
    {
     "data": {
      "image/png": "[encoded data removed]",
      "text/plain": [
       "<Figure size 432x288 with 1 Axes>"
      ]
     },
     "metadata": {
      "needs_background": "light"
     },
     "output_type": "display_data"
    }
   ],
   "source": [
    "import matplotlib.pyplot as plt\n",
    "\n",
    "x = [1,2,3,4,5]\n",
    "y = [6,7,8,9,10]\n",
    "plt.plot(x, y, color = 'red', linestyle = 'dashed', marker = 'o')\n",
    "plt.title(\"myplot\")\n",
    "plt.xlabel('x axis')\n",
    "plt.ylabel('y axis')\n",
    "plt.show()"
   ]
  },
  {
   "cell_type": "code",
   "execution_count": 87,
   "metadata": {},
   "outputs": [
    {
     "data": {
      "image/png": "[encoded data removed]",
      "text/plain": [
       "<Figure size 432x288 with 1 Axes>"
      ]
     },
     "metadata": {
      "needs_background": "light"
     },
     "output_type": "display_data"
    }
   ],
   "source": [
    "plt.scatter(x, y, color = 'red')\n",
    "plt.show()"
   ]
  },
  {
   "cell_type": "code",
   "execution_count": 98,
   "metadata": {},
   "outputs": [
    {
     "data": {
      "image/png": "[encoded data removed]",
      "text/plain": [
       "<Figure size 432x288 with 1 Axes>"
      ]
     },
     "metadata": {
      "needs_background": "light"
     },
     "output_type": "display_data"
    }
   ],
   "source": [
    "import matplotlib.pyplot as plt\n",
    "import numpy as np\n",
    "\n",
    "x = np.arange(10, 60, 10)\n",
    "y = sorted(x, reverse=True)\n",
    "plt.plot(x, y)\n",
    "plt.title(\"line plot\")\n",
    "plt.xlabel(\"x axis\")\n",
    "plt.ylabel(\"y axis\")\n",
    "plt.show()"
   ]
  },
  {
   "cell_type": "code",
   "execution_count": 99,
   "metadata": {},
   "outputs": [
    {
     "data": {
      "image/png": "[encoded data removed]",
      "text/plain": [
       "<Figure size 432x288 with 1 Axes>"
      ]
     },
     "metadata": {
      "needs_background": "light"
     },
     "output_type": "display_data"
    }
   ],
   "source": [
    "import matplotlib.pyplot as plt\n",
    "import numpy as np\n",
    "\n",
    "x = np.arange(10, 60, 10)\n",
    "y = sorted(x, reverse=True)\n",
    "plt.scatter(x, y)\n",
    "plt.title(\"scatter plot\")\n",
    "plt.xlabel(\"x axis\")\n",
    "plt.ylabel(\"y axis\")\n",
    "plt.show()"
   ]
  },
  {
   "cell_type": "code",
   "execution_count": 104,
   "metadata": {},
   "outputs": [
    {
     "data": {
      "image/png": "[encoded data removed]",
      "text/plain": [
       "<Figure size 432x288 with 1 Axes>"
      ]
     },
     "metadata": {
      "needs_background": "light"
     },
     "output_type": "display_data"
    }
   ],
   "source": [
    "import matplotlib.pyplot as plt\n",
    "import numpy as np\n",
    "\n",
    "z = [0,0,0, 100, 200, 200, 200, 400, 500, 500, 500]\n",
    "plt.hist(z, bins=5)\n",
    "plt.title('histogram')\n",
    "plt.xlabel(\"interval\")\n",
    "plt.ylabel(\"freq\")\n",
    "plt.show()"
   ]
  },
  {
   "cell_type": "code",
   "execution_count": 110,
   "metadata": {},
   "outputs": [
    {
     "name": "stdout",
     "output_type": "stream",
     "text": [
      "{'Indonesia': 'Rupiah', 'Malaysia': 'Ringgit', 'Singapura': 'SGD', 'USA': 'Dollar', 'Filipina': 'Peso', 'Jepang': 'Yen'}\n",
      "{'Indonesia': 'Rupiah', 'Singapura': 'SGD', 'USA': 'Dollar', 'Filipina': 'Peso', 'Jepang': 'Yen'}\n"
     ]
    }
   ],
   "source": [
    "mata_uang = {'Indonesia':'Rupiah', 'Malaysia':'Ringgit', 'Singapura':'SGD', 'USA':'Dollar', 'Filipina':'Peso'}\n",
    "mata_uang['Jepang'] = 'Yen'\n",
    "print(mata_uang)\n",
    "del mata_uang['Malaysia']\n",
    "print(mata_uang)"
   ]
  },
  {
   "cell_type": "code",
   "execution_count": 111,
   "metadata": {},
   "outputs": [
    {
     "name": "stdout",
     "output_type": "stream",
     "text": [
      "installing\n",
      "installing\n",
      "installing\n",
      "installing\n",
      "installing\n",
      "installing\n",
      "installing\n",
      "installing\n",
      "installing\n",
      "installing\n",
      "complete\n"
     ]
    }
   ],
   "source": [
    "installation_progress = 0\n",
    "while installation_progress < 100:\n",
    "    print(\"installing\")\n",
    "    installation_progress += 10\n",
    "else:\n",
    "    print(\"complete\")"
   ]
  },
  {
   "cell_type": "code",
   "execution_count": 114,
   "metadata": {},
   "outputs": [
    {
     "name": "stdout",
     "output_type": "stream",
     "text": [
      "Tidak Lulus\n",
      "Lulus\n",
      "Tidak Lulus\n",
      "Tidak Lulus\n",
      "Lulus\n",
      "Tidak Lulus\n",
      "Tidak Lulus\n",
      "Lulus\n"
     ]
    }
   ],
   "source": [
    "nilai = [6,9,3,5,7,3,5,9]\n",
    "for nilai_i in nilai:\n",
    "    if nilai_i < 7:\n",
    "        print('Tidak Lulus')\n",
    "    else:\n",
    "        print('Lulus')"
   ]
  },
  {
   "cell_type": "code",
   "execution_count": 116,
   "metadata": {},
   "outputs": [
    {
     "name": "stdout",
     "output_type": "stream",
     "text": [
      "Mata uang Indonesia adalah Rupiah\n",
      "Mata uang Singapura adalah SGD\n",
      "Mata uang USA adalah Dollar\n",
      "Mata uang Filipina adalah Peso\n",
      "Mata uang Jepang adalah Yen\n"
     ]
    }
   ],
   "source": [
    "for negara, mu in mata_uang.items():\n",
    "    print(\"Mata uang {} adalah {}\".format(negara, mu))"
   ]
  },
  {
   "cell_type": "code",
   "execution_count": 120,
   "metadata": {},
   "outputs": [
    {
     "name": "stdout",
     "output_type": "stream",
     "text": [
      "28766\n"
     ]
    }
   ],
   "source": [
    "def usd_to_idr(curr):\n",
    "    return (curr*14383)\n",
    "print(usd_to_idr(2))"
   ]
  },
  {
   "cell_type": "code",
   "execution_count": 119,
   "metadata": {},
   "outputs": [
    {
     "name": "stdout",
     "output_type": "stream",
     "text": [
      "6.0\n"
     ]
    }
   ],
   "source": [
    "def triangle_area(base, height):\n",
    "    return (0.5*base*height)\n",
    "print(triangle_area(3,4))"
   ]
  },
  {
   "cell_type": "code",
   "execution_count": null,
   "metadata": {},
   "outputs": [],
   "source": []
  }
 ],
 "metadata": {
  "kernelspec": {
   "display_name": "Python 3.8.1 64-bit",
   "language": "python",
   "name": "python3"
  },
  "language_info": {
   "codemirror_mode": {
    "name": "ipython",
    "version": 3
   },
   "file_extension": ".py",
   "mimetype": "text/x-python",
   "name": "python",
   "nbconvert_exporter": "python",
   "pygments_lexer": "ipython3",
   "version": "3.8.1"
  },
  "orig_nbformat": 4,
  "vscode": {
   "interpreter": {
    "hash": "d186a575b40895af3de1a9a48cdfbadc29a7bf3111f21b25d27c163e8eb0a04b"
   }
  }
 },
 "nbformat": 4,
 "nbformat_minor": 2
}
